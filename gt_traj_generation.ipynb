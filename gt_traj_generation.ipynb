{
 "cells": [
  {
   "cell_type": "markdown",
   "metadata": {},
   "source": [
    "# Load Trajectory"
   ]
  },
  {
   "cell_type": "code",
   "execution_count": 5,
   "metadata": {},
   "outputs": [],
   "source": [
    "from evo.core.trajectory import PosePath3D, PoseTrajectory3D\n",
    "from scipy.spatial.transform import Rotation as Rot\n",
    "import numpy as np\n",
    "import dill\n",
    "\n",
    "dumpfile = open(\"data/trajectory_gt.dill\", \"rb\")\n",
    "trajectory: PoseTrajectory3D = dill.load(dumpfile)\n",
    "dumpfile.close()"
   ]
  },
  {
   "cell_type": "markdown",
   "metadata": {},
   "source": [
    "# Set Origin To Zero"
   ]
  },
  {
   "cell_type": "code",
   "execution_count": 6,
   "metadata": {},
   "outputs": [],
   "source": [
    "# trajectory.transform(np.linalg.inv(trajectory.poses_se3[0]))\n",
    "\n",
    "# del trajectory.meta[\"base_points\"]"
   ]
  },
  {
   "cell_type": "markdown",
   "metadata": {},
   "source": [
    "# Save GT"
   ]
  },
  {
   "cell_type": "code",
   "execution_count": 7,
   "metadata": {},
   "outputs": [],
   "source": [
    "trajectory.meta[\"Name\"] = \"gt\"\n",
    "trajectory.meta[\"topic\"] = \"/ukf_pose\"\n",
    "trajectory.meta[\"frame_id\"] = \"odom\"\n",
    "trajectory.meta[\"child_frame_id\"] = \"base_link\"\n",
    "trajectory.meta[\"publish_transform\"] = True\n",
    "trajectory.meta[\"publish_orientation\"] = False\n",
    "trajectory.meta[\"frequency\"] = 10 \n",
    "\n",
    "# Save the new trajectory\n",
    "output_file = \"data/gt.dill\"\n",
    "with open(output_file, \"wb\") as f:\n",
    "    dill.dump(trajectory, f)"
   ]
  }
 ],
 "metadata": {
  "kernelspec": {
   "display_name": "Python 3",
   "language": "python",
   "name": "python3"
  },
  "language_info": {
   "codemirror_mode": {
    "name": "ipython",
    "version": 3
   },
   "file_extension": ".py",
   "mimetype": "text/x-python",
   "name": "python",
   "nbconvert_exporter": "python",
   "pygments_lexer": "ipython3",
   "version": "3.8.10"
  }
 },
 "nbformat": 4,
 "nbformat_minor": 2
}
