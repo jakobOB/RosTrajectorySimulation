{
 "cells": [
  {
   "cell_type": "markdown",
   "metadata": {},
   "source": [
    "# Load Trajectory"
   ]
  },
  {
   "cell_type": "code",
   "execution_count": 1,
   "metadata": {},
   "outputs": [],
   "source": [
    "from evo.core.trajectory import PosePath3D, PoseTrajectory3D\n",
    "from scipy.spatial.transform import Rotation as Rot\n",
    "import numpy as np\n",
    "import dill\n",
    "\n",
    "dumpfile = open(\"../notebooks/Dataset_Syntetic/Sets/1/gt.dill\", \"rb\")\n",
    "trajectory: PoseTrajectory3D = dill.load(dumpfile)\n",
    "dumpfile.close()"
   ]
  },
  {
   "cell_type": "markdown",
   "metadata": {},
   "source": [
    "# Calculate Drift"
   ]
  },
  {
   "cell_type": "code",
   "execution_count": 2,
   "metadata": {},
   "outputs": [],
   "source": [
    "# grep poses and timestamps\n",
    "poses = trajectory.poses_se3\n",
    "timestamps = trajectory.timestamps\n",
    "\n",
    "\n",
    "# Initialize cumulative drift in local frame\n",
    "cumulative_drift_local = np.zeros(6)  # Drift for [x, y, z, roll, pitch, yaw] in the robot's local frame\n",
    "\n",
    "# Initialize list for poses with drift\n",
    "poses_with_drift = [poses[0]]  # Start with the first pose\n",
    "\n",
    "# Define big drift matrix (K) with all elements explicitly written\n",
    "K = np.array([\n",
    "    [-0.5,  0.0,  0.0,  0.0,  0.0,  0.0],  # x drift due to x, y, z, roll, pitch, yaw\n",
    "    [0.5,  0.0,   0.0,  0.0,  0.0,  0.0],  # y drift due to x, y, z, roll, pitch, yaw\n",
    "    [ 0.1,  0.0,  0.0,  0.0,  0.0,  0.0],  # z drift due to x, y, z, roll, pitch, yaw\n",
    "    [ 0.0,  0.0,  0.0,  0.0,  0.0,  0.0],  # roll drift due to x, y, z, roll, pitch, yaw\n",
    "    [ 0.0,  0.0,  0.0,  0.0,  0.0,  0.0],  # pitch drift due to x, y, z, roll, pitch, yaw\n",
    "    [ 0.0,  0.0,  0.0,  0.0,  0.0,  0.0]  # yaw drift due to x, y, z, roll, pitch, yaw\n",
    "])\n",
    "\n",
    "# Define noise covariance matrix (Q) for stochastic noise\n",
    "Q = np.diag([0.0001, 0.0001, 0.0001, 0.00001, 0.00001, 0.00001])  # Noise for [x, y, z, roll, pitch, yaw]"
   ]
  },
  {
   "cell_type": "code",
   "execution_count": 3,
   "metadata": {},
   "outputs": [],
   "source": [
    "# Loop through all poses to add systematic errors\n",
    "for i in range(1, len(poses)):\n",
    "    dt = timestamps[i] - timestamps[i - 1]\n",
    "    if dt > 0:\n",
    "        # Extract current and previous poses\n",
    "        prev_pose = poses[i - 1]\n",
    "        curr_pose = poses[i]\n",
    "\n",
    "        # Compute relative motion in the global frame\n",
    "        relative_translation = curr_pose[:3, 3] - prev_pose[:3, 3]\n",
    "        R_prev = Rot.from_matrix(prev_pose[:3, :3])  # Orientation of the previous pose\n",
    "\n",
    "        # Transform relative translation to the local frame of the robot\n",
    "        relative_translation_local = R_prev.inv().apply(relative_translation)\n",
    "\n",
    "        # Compute relative angular motion\n",
    "        R_curr = Rot.from_matrix(curr_pose[:3, :3])  # Orientation of the current pose\n",
    "        relative_rotation = R_curr * R_prev.inv()\n",
    "        relative_euler_local = relative_rotation.as_euler('xyz')  # Relative angles in local frame\n",
    "\n",
    "        # Combine relative motion into a single vector\n",
    "        relative_motion_local = np.hstack([relative_translation_local, relative_euler_local])\n",
    "\n",
    "        # Apply systematic drift using the big K matrix\n",
    "        drift_increment = K @ relative_motion_local * dt\n",
    "\n",
    "        # Update cumulative drift\n",
    "        cumulative_drift_local += drift_increment\n",
    "\n",
    "        # Transform drift back to the global frame\n",
    "        linear_drift_global = cumulative_drift_local[:3] #R_prev.apply(cumulative_drift_local[:3])  # Transform linear drift\n",
    "        angular_drift_local = cumulative_drift_local[3:]  # Angular drift remains in local frame\n",
    "\n",
    "        # Apply the drift to the current pose\n",
    "        new_pose = curr_pose.copy()\n",
    "        new_pose[:3, 3] += linear_drift_global  # Add linear drift to the global translation\n",
    "\n",
    "        # Apply angular drift in the local frame\n",
    "        current_euler_global = Rot.from_matrix(new_pose[:3, :3]).as_euler('xyz')\n",
    "        new_euler_global = current_euler_global + angular_drift_local\n",
    "        new_pose[:3, :3] = Rot.from_euler('xyz', new_euler_global).as_matrix()\n",
    "\n",
    "        poses_with_drift.append(new_pose)\n",
    "    else:\n",
    "        poses_with_drift.append(curr_pose)  # Copy pose without changes for zero-time difference\n",
    "\n",
    "# Convert back to PoseTrajectory3D\n",
    "trajectory_with_drift = PoseTrajectory3D(\n",
    "    timestamps=timestamps,\n",
    "    poses_se3=poses_with_drift\n",
    ")\n"
   ]
  },
  {
   "cell_type": "code",
   "execution_count": 4,
   "metadata": {},
   "outputs": [],
   "source": [
    "from mathUtils import calculate_yaw_from_points, calculate_pitch_from_points\n",
    "\n",
    "# Extract positions (assuming SE(3) poses)\n",
    "x = np.array([pose[0, 3] for pose in trajectory_with_drift.poses_se3])\n",
    "y = np.array([pose[1, 3] for pose in trajectory_with_drift.poses_se3])\n",
    "z = np.array([pose[2, 3] for pose in trajectory_with_drift.poses_se3])\n",
    "\n",
    "# Calculate new yaw and pitch\n",
    "new_yaw = calculate_yaw_from_points(x, y)\n",
    "new_pitch = calculate_pitch_from_points(x, y, z)\n",
    "\n",
    "# Update poses in the trajectory\n",
    "for i, pose in enumerate(trajectory_with_drift.poses_se3):\n",
    "    rotation_matrix = pose[:3, :3]\n",
    "    # Decompose the rotation matrix\n",
    "    roll, _, _ = Rot.from_matrix(new_pose[:3, :3]).as_euler('xyz')\n",
    "    # Create updated rotation matrix\n",
    "    new_rotation = Rot.from_euler('xyz', [roll, new_pitch[i], new_yaw[i]], degrees=True).as_matrix()\n",
    "    # Update the SE(3) matrix\n",
    "    pose[:3, :3] = new_rotation\n"
   ]
  },
  {
   "cell_type": "code",
   "execution_count": 5,
   "metadata": {},
   "outputs": [],
   "source": [
    "for i, pose in enumerate(trajectory_with_drift.poses_se3):   \n",
    "    # Add stochastic noise using the Q matrix\n",
    "    noise = np.random.multivariate_normal(mean=np.zeros(6), cov=Q)\n",
    "\n",
    "    #add translational noise\n",
    "    pose[:3, 3] += noise[:3]\n",
    "\n",
    "    #add angular noise\n",
    "    current_euler_global = Rot.from_matrix(pose[:3, :3]).as_euler('xyz')\n",
    "    new_euler_global = current_euler_global + angular_drift_local\n",
    "    pose[:3, :3] = Rot.from_euler('xyz', new_euler_global).as_matrix()\n",
    "\n",
    "\n",
    "\n"
   ]
  },
  {
   "cell_type": "code",
   "execution_count": 6,
   "metadata": {},
   "outputs": [
    {
     "name": "stdout",
     "output_type": "stream",
     "text": [
      "Drifted trajectory with linear and angular drift (per-axis) saved to ../notebooks/Dataset_Syntetic/Sets/1/odom_large_drift.dill\n",
      "Drifted trajectory with linear and angular drift (per-axis) saved to ../notebooks/Dataset_Syntetic/Sets/1/odom_larg_drift_half_speed.dill\n"
     ]
    }
   ],
   "source": [
    "\n",
    "\n",
    "trajectory_with_drift.meta[\"Name\"] = \"odom\"\n",
    "trajectory_with_drift.meta[\"topic\"] = \"/localization/odometry/odom_lidar\"\n",
    "trajectory_with_drift.meta[\"frame_id\"] = \"odom\"\n",
    "trajectory_with_drift.meta[\"child_frame_id\"] = \"base_link\"\n",
    "trajectory_with_drift.meta[\"publish_transform\"] = True\n",
    "trajectory_with_drift.meta[\"publish_orientation\"] = False\n",
    "trajectory_with_drift.meta[\"frequency\"] = 10\n",
    "\n",
    "# Save the new trajectory\n",
    "output_file = \"../notebooks/Dataset_Syntetic/Sets/1/odom_large_drift.dill\"\n",
    "with open(output_file, \"wb\") as f:\n",
    "    dill.dump(trajectory_with_drift, f)\n",
    "\n",
    "print(f\"Drifted trajectory with linear and angular drift (per-axis) saved to {output_file}\")\n",
    "\n",
    "trajectory_with_drift.meta[\"frequency\"] = 5\n",
    "\n",
    "# Save the new trajectory\n",
    "output_file = \"../notebooks/Dataset_Syntetic/Sets/1/odom_larg_drift_half_speed.dill\"\n",
    "with open(output_file, \"wb\") as f:\n",
    "    dill.dump(trajectory_with_drift, f)\n",
    "\n",
    "print(f\"Drifted trajectory with linear and angular drift (per-axis) saved to {output_file}\")"
   ]
  }
 ],
 "metadata": {
  "kernelspec": {
   "display_name": "Python 3",
   "language": "python",
   "name": "python3"
  },
  "language_info": {
   "codemirror_mode": {
    "name": "ipython",
    "version": 3
   },
   "file_extension": ".py",
   "mimetype": "text/x-python",
   "name": "python",
   "nbconvert_exporter": "python",
   "pygments_lexer": "ipython3",
   "version": "3.8.10"
  }
 },
 "nbformat": 4,
 "nbformat_minor": 2
}
